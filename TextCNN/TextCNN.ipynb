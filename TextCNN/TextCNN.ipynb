{
 "cells": [
  {
   "cell_type": "code",
   "execution_count": 1,
   "metadata": {
    "colab": {
     "base_uri": "https://localhost:8080/",
     "height": 35
    },
    "colab_type": "code",
    "id": "9xik7eS37K4G",
    "outputId": "9a75a778-9cfa-4bc9-eba7-59a08e6aa09b"
   },
   "outputs": [
    {
     "name": "stderr",
     "output_type": "stream",
     "text": [
      "Using TensorFlow backend.\n"
     ]
    }
   ],
   "source": [
    "import numpy as np\n",
    "import pandas as pd\n",
    "from tqdm import tqdm\n",
    "from keras.preprocessing.text import Tokenizer\n",
    "from keras.preprocessing.sequence import pad_sequences\n",
    "from keras.utils.np_utils import to_categorical\n",
    "from keras.layers import Embedding\n",
    "from keras.layers import Dense, Flatten\n",
    "from keras.layers import Conv1D, MaxPooling1D, Embedding, Dropout\n",
    "from keras.models import Model\n",
    "from keras.optimizers import Adam\n",
    "from keras.models import Sequential\n",
    "from keras.callbacks import Callback\n",
    "from keras.callbacks import ModelCheckpoint\n",
    "import keras.backend as K\n",
    "from nltk.probability import FreqDist\n",
    "from sklearn.preprocessing import LabelEncoder\n",
    "from sklearn.preprocessing import OneHotEncoder\n",
    "from sklearn.model_selection import train_test_split\n",
    "from sklearn.metrics import f1_score\n",
    "from sklearn.utils import class_weight\n",
    "import matplotlib.pyplot as plt\n",
    "%matplotlib inline"
   ]
  },
  {
   "cell_type": "code",
   "execution_count": null,
   "metadata": {
    "colab": {
     "base_uri": "https://localhost:8080/",
     "height": 199
    },
    "colab_type": "code",
    "id": "I8cjJfdD7K4L",
    "outputId": "31918de8-fff9-4531-9620-7af4fa8b4668"
   },
   "outputs": [],
   "source": [
    "!wget https://s3-us-west-2.amazonaws.com/allennlp/datasets/glove/glove.840B.300d.txt.gz\n",
    "!gunzip -k glove.840B.300d.txt.gz"
   ]
  },
  {
   "cell_type": "code",
   "execution_count": 0,
   "metadata": {
    "colab": {},
    "colab_type": "code",
    "id": "sMdfrt3v7K4O"
   },
   "outputs": [],
   "source": [
    "data = pd.read_csv('../hm_train_cleaned.csv', header=None)"
   ]
  },
  {
   "cell_type": "code",
   "execution_count": 4,
   "metadata": {
    "colab": {
     "base_uri": "https://localhost:8080/",
     "height": 198
    },
    "colab_type": "code",
    "id": "IeP6PrCp7K4Q",
    "outputId": "aab2eb87-d30f-4844-a797-d05e727239ca"
   },
   "outputs": [
    {
     "data": {
      "text/html": [
       "<div>\n",
       "<style scoped>\n",
       "    .dataframe tbody tr th:only-of-type {\n",
       "        vertical-align: middle;\n",
       "    }\n",
       "\n",
       "    .dataframe tbody tr th {\n",
       "        vertical-align: top;\n",
       "    }\n",
       "\n",
       "    .dataframe thead th {\n",
       "        text-align: right;\n",
       "    }\n",
       "</style>\n",
       "<table border=\"1\" class=\"dataframe\">\n",
       "  <thead>\n",
       "    <tr style=\"text-align: right;\">\n",
       "      <th></th>\n",
       "      <th>0</th>\n",
       "      <th>1</th>\n",
       "      <th>2</th>\n",
       "    </tr>\n",
       "  </thead>\n",
       "  <tbody>\n",
       "    <tr>\n",
       "      <th>0</th>\n",
       "      <td>27673</td>\n",
       "      <td>I went on a successful date with someone I fel...</td>\n",
       "      <td>affection</td>\n",
       "    </tr>\n",
       "    <tr>\n",
       "      <th>1</th>\n",
       "      <td>27674</td>\n",
       "      <td>I was happy when my son got 90 % marks in his ...</td>\n",
       "      <td>affection</td>\n",
       "    </tr>\n",
       "    <tr>\n",
       "      <th>2</th>\n",
       "      <td>27675</td>\n",
       "      <td>I went to the gym this morning and did yoga .</td>\n",
       "      <td>exercise</td>\n",
       "    </tr>\n",
       "    <tr>\n",
       "      <th>3</th>\n",
       "      <td>27676</td>\n",
       "      <td>We had a serious talk with some friends of our...</td>\n",
       "      <td>bonding</td>\n",
       "    </tr>\n",
       "    <tr>\n",
       "      <th>4</th>\n",
       "      <td>27677</td>\n",
       "      <td>I went with grandchildren to butterfly display...</td>\n",
       "      <td>affection</td>\n",
       "    </tr>\n",
       "  </tbody>\n",
       "</table>\n",
       "</div>"
      ],
      "text/plain": [
       "       0                                                  1          2\n",
       "0  27673  I went on a successful date with someone I fel...  affection\n",
       "1  27674  I was happy when my son got 90 % marks in his ...  affection\n",
       "2  27675      I went to the gym this morning and did yoga .   exercise\n",
       "3  27676  We had a serious talk with some friends of our...    bonding\n",
       "4  27677  I went with grandchildren to butterfly display...  affection"
      ]
     },
     "execution_count": 4,
     "metadata": {
      "tags": []
     },
     "output_type": "execute_result"
    }
   ],
   "source": [
    "data.head()"
   ]
  },
  {
   "cell_type": "markdown",
   "metadata": {
    "colab_type": "text",
    "id": "OogmMgh0Lv-8"
   },
   "source": [
    "#### Make a list af all tokens in the data"
   ]
  },
  {
   "cell_type": "code",
   "execution_count": 0,
   "metadata": {
    "colab": {},
    "colab_type": "code",
    "id": "Mo9cqfxp7K4T"
   },
   "outputs": [],
   "source": [
    "all_tokens = [token.lower() for i in data.index for token in data.loc[i, 1].split()]"
   ]
  },
  {
   "cell_type": "markdown",
   "metadata": {
    "colab_type": "text",
    "id": "99JoMcJgLv_A"
   },
   "source": [
    "#### Compute frequency counts of the tokens"
   ]
  },
  {
   "cell_type": "code",
   "execution_count": 0,
   "metadata": {
    "colab": {},
    "colab_type": "code",
    "id": "lMYvyFgv7K4V"
   },
   "outputs": [],
   "source": [
    "freq = dict(FreqDist(all_tokens))"
   ]
  },
  {
   "cell_type": "code",
   "execution_count": 7,
   "metadata": {
    "colab": {
     "base_uri": "https://localhost:8080/",
     "height": 35
    },
    "colab_type": "code",
    "id": "wMQI2peI7K4Y",
    "outputId": "3cd7eb31-e58b-4602-cb37-5d3bf902a697"
   },
   "outputs": [
    {
     "name": "stdout",
     "output_type": "stream",
     "text": [
      "Total no. of unique tokens: 23273\n"
     ]
    }
   ],
   "source": [
    "word_counts = sorted(freq.values(), reverse=True)\n",
    "print('Total no. of unique tokens:', len(word_counts))"
   ]
  },
  {
   "cell_type": "markdown",
   "metadata": {
    "colab_type": "text",
    "id": "eVUK-fvSLv_H"
   },
   "source": [
    "#### Calculate the percentage of tokens that will be included if we only consider top NUM_WORDS most frequently occurring tokens\n"
   ]
  },
  {
   "cell_type": "code",
   "execution_count": 8,
   "metadata": {
    "colab": {
     "base_uri": "https://localhost:8080/",
     "height": 35
    },
    "colab_type": "code",
    "id": "2XVNB2ow7K4b",
    "outputId": "e7c2dccc-514f-44a6-ea99-6532ee2bb865"
   },
   "outputs": [
    {
     "name": "stdout",
     "output_type": "stream",
     "text": [
      "Percentage of tokens included: 99.33180412079702\n"
     ]
    }
   ],
   "source": [
    "NUM_WORDS = 15000\n",
    "print('Percentage of tokens included:', \\\n",
    "      sum(word_counts[:NUM_WORDS])/sum(word_counts)*100)"
   ]
  },
  {
   "cell_type": "markdown",
   "metadata": {
    "colab_type": "text",
    "id": "cs67PTI5Lv_M"
   },
   "source": [
    "#### Tokenize the data and make sequences containing the word ids"
   ]
  },
  {
   "cell_type": "code",
   "execution_count": 0,
   "metadata": {
    "colab": {},
    "colab_type": "code",
    "id": "vnyvwFqm7K4e"
   },
   "outputs": [],
   "source": [
    "tokenizer = Tokenizer(num_words=NUM_WORDS, filters='')\n",
    "tokenizer.fit_on_texts(data[1])\n",
    "sequences = tokenizer.texts_to_sequences(data[1])\n",
    "word_index = tokenizer.word_index"
   ]
  },
  {
   "cell_type": "markdown",
   "metadata": {
    "colab_type": "text",
    "id": "I1Ok__pdLv_P"
   },
   "source": [
    "#### Some statistics of the sequence length"
   ]
  },
  {
   "cell_type": "code",
   "execution_count": 10,
   "metadata": {
    "colab": {
     "base_uri": "https://localhost:8080/",
     "height": 72
    },
    "colab_type": "code",
    "id": "jh17cirr7K4i",
    "outputId": "80f2126b-5f11-4f5f-b411-10083870aaba"
   },
   "outputs": [
    {
     "name": "stdout",
     "output_type": "stream",
     "text": [
      "Mean length of sequence: 20.38818985096401\n",
      "Std. Dev. of length: 23.63174092540852\n",
      "Percentage of sequences with length less than MAX_LEN: 98.99040135276273\n"
     ]
    }
   ],
   "source": [
    "lengths = np.asarray([len(s) for s in sequences])\n",
    "print('Mean length of sequence:', np.mean(lengths))\n",
    "print('Std. Dev. of length:', np.std(lengths))\n",
    "MAX_LEN = 100\n",
    "print('Percentage of sequences with length less than MAX_LEN:',\\\n",
    "      np.mean(lengths<MAX_LEN)*100)"
   ]
  },
  {
   "cell_type": "markdown",
   "metadata": {
    "colab_type": "text",
    "id": "06WlizBnLv_T"
   },
   "source": [
    "#### Pad the sequences upto MAX_LEN length and one-hot encode labels"
   ]
  },
  {
   "cell_type": "code",
   "execution_count": 11,
   "metadata": {
    "colab": {
     "base_uri": "https://localhost:8080/",
     "height": 35
    },
    "colab_type": "code",
    "id": "GaRzpw0Q7K4k",
    "outputId": "fbf20e69-be21-4f31-fad1-e639bbce3bbc"
   },
   "outputs": [
    {
     "name": "stdout",
     "output_type": "stream",
     "text": [
      "X.shape = (60321, 100) \t labels.shape = (60321, 7)\n"
     ]
    }
   ],
   "source": [
    "X = pad_sequences(sequences, maxlen=MAX_LEN)\n",
    "\n",
    "# Encode to string valued labels into integers\n",
    "LE = LabelEncoder()\n",
    "LE.fit(data[2])\n",
    "\n",
    "# Convert the integer labels to one-hot\n",
    "labels = to_categorical(LE.transform(data[2]))\n",
    "\n",
    "print('X.shape = %s \\t labels.shape = %s'%(str(X.shape), str(labels.shape)))"
   ]
  },
  {
   "cell_type": "markdown",
   "metadata": {
    "colab_type": "text",
    "id": "x0YrUaYjLv_X"
   },
   "source": [
    "#### Do a train-test split"
   ]
  },
  {
   "cell_type": "code",
   "execution_count": 12,
   "metadata": {
    "colab": {
     "base_uri": "https://localhost:8080/",
     "height": 90
    },
    "colab_type": "code",
    "id": "lLb3wBcb7K4o",
    "outputId": "beed21fe-0cbb-4b28-ef98-002a1947c788"
   },
   "outputs": [
    {
     "name": "stdout",
     "output_type": "stream",
     "text": [
      "Shape of X_train: (55321, 100)\n",
      "Shape of X_test: (5000, 100)\n",
      "Shape of y_train: (55321, 7)\n",
      "Shape of y_yest: (5000, 7)\n"
     ]
    }
   ],
   "source": [
    "X_train, X_test, y_train, y_test = train_test_split(X, labels, test_size=5000)\n",
    "print('Shape of X_train:', X_train.shape)\n",
    "print('Shape of X_test:', X_test.shape)\n",
    "print('Shape of y_train:', y_train.shape)\n",
    "print('Shape of y_yest:', y_test.shape)"
   ]
  },
  {
   "cell_type": "markdown",
   "metadata": {
    "colab_type": "text",
    "id": "dhfRsI8KLv_b"
   },
   "source": [
    "#### Load GloVe word embeddings"
   ]
  },
  {
   "cell_type": "code",
   "execution_count": 14,
   "metadata": {
    "colab": {
     "base_uri": "https://localhost:8080/",
     "height": 35
    },
    "colab_type": "code",
    "id": "LBf3Tc-y7K4q",
    "outputId": "1ba18fbf-8f47-41ef-d005-f7df84ab75c5"
   },
   "outputs": [
    {
     "name": "stdout",
     "output_type": "stream",
     "text": [
      "Size of vocab: 2196016\n"
     ]
    }
   ],
   "source": [
    "embeddings = {}\n",
    "EMBEDDING_DIM = 300\n",
    "with open('glove.840B.300d.txt', encoding='utf8') as f:\n",
    "    for line in f:\n",
    "        line = line.split(' ')\n",
    "        word = line[0]\n",
    "        vector = np.asarray(line[1:], dtype='float32')\n",
    "        assert len(vector) == EMBEDDING_DIM\n",
    "        embeddings[word] = vector\n",
    "print('Size of vocab: %d'%len(embeddings))"
   ]
  },
  {
   "cell_type": "markdown",
   "metadata": {
    "colab_type": "text",
    "id": "1ze3eXF9Lv_l"
   },
   "source": [
    "#### Using the embedding dictionary to compute the embedding matrix"
   ]
  },
  {
   "cell_type": "code",
   "execution_count": 0,
   "metadata": {
    "colab": {},
    "colab_type": "code",
    "id": "rJPMNe1I7K4w"
   },
   "outputs": [],
   "source": [
    "embedding_matrix = np.zeros((len(word_index) + 1, EMBEDDING_DIM))\n",
    "for word, i in word_index.items():\n",
    "    vector = embeddings.get(word)\n",
    "    if vector is not None:\n",
    "        embedding_matrix[i] = vector\n",
    "del embeddings # Free some memory"
   ]
  },
  {
   "cell_type": "markdown",
   "metadata": {
    "colab_type": "text",
    "id": "w3_behZJLv_n"
   },
   "source": [
    "#### Initialize the embedding layer"
   ]
  },
  {
   "cell_type": "code",
   "execution_count": 0,
   "metadata": {
    "colab": {},
    "colab_type": "code",
    "id": "yJ6hNBJM7K4y"
   },
   "outputs": [],
   "source": [
    "embedding_layer = Embedding(len(word_index) + 1,\\\n",
    "                            EMBEDDING_DIM,\\\n",
    "                            weights=[embedding_matrix],\\\n",
    "                            input_length=MAX_LEN,\\\n",
    "                            trainable=False)"
   ]
  },
  {
   "cell_type": "code",
   "execution_count": 0,
   "metadata": {
    "colab": {},
    "colab_type": "code",
    "id": "zEz2PD0t7K43"
   },
   "outputs": [],
   "source": [
    "cp = ModelCheckpoint('model_cnn.hdf5', monitor='val_loss',\\\n",
    "                     verbose=1, save_best_only=True)"
   ]
  },
  {
   "cell_type": "markdown",
   "metadata": {
    "colab_type": "text",
    "id": "XUauhs8kLv_s"
   },
   "source": [
    "#### Build the model - 3 Conv layers with dropout in between + 2 Dense layers"
   ]
  },
  {
   "cell_type": "code",
   "execution_count": 18,
   "metadata": {
    "colab": {
     "base_uri": "https://localhost:8080/",
     "height": 508
    },
    "colab_type": "code",
    "id": "uyK0HP1l7K45",
    "outputId": "6ec49394-9a09-41ab-f1b0-d20374ae3890"
   },
   "outputs": [
    {
     "name": "stdout",
     "output_type": "stream",
     "text": [
      "_________________________________________________________________\n",
      "Layer (type)                 Output Shape              Param #   \n",
      "=================================================================\n",
      "embedding_1 (Embedding)      (None, 100, 300)          6982200   \n",
      "_________________________________________________________________\n",
      "conv1d_1 (Conv1D)            (None, 96, 128)           192128    \n",
      "_________________________________________________________________\n",
      "dropout_1 (Dropout)          (None, 96, 128)           0         \n",
      "_________________________________________________________________\n",
      "conv1d_2 (Conv1D)            (None, 92, 128)           82048     \n",
      "_________________________________________________________________\n",
      "dropout_2 (Dropout)          (None, 92, 128)           0         \n",
      "_________________________________________________________________\n",
      "conv1d_3 (Conv1D)            (None, 88, 128)           82048     \n",
      "_________________________________________________________________\n",
      "dropout_3 (Dropout)          (None, 88, 128)           0         \n",
      "_________________________________________________________________\n",
      "flatten_1 (Flatten)          (None, 11264)             0         \n",
      "_________________________________________________________________\n",
      "dense_1 (Dense)              (None, 128)               1441920   \n",
      "_________________________________________________________________\n",
      "dense_2 (Dense)              (None, 7)                 903       \n",
      "=================================================================\n",
      "Total params: 8,781,247\n",
      "Trainable params: 1,799,047\n",
      "Non-trainable params: 6,982,200\n",
      "_________________________________________________________________\n"
     ]
    }
   ],
   "source": [
    "model = Sequential()\n",
    "model.add(embedding_layer)\n",
    "model.add(Conv1D(128, 5, activation='relu'))\n",
    "model.add(Dropout(0.5))\n",
    "model.add(Conv1D(128, 5, activation='relu'))\n",
    "model.add(Dropout(0.5))\n",
    "model.add(Conv1D(128, 5, activation='relu'))\n",
    "model.add(Dropout(0.5))\n",
    "model.add(Flatten())\n",
    "model.add(Dense(128, activation='relu'))\n",
    "model.add(Dense(7, activation='softmax'))\n",
    "\n",
    "opt = Adam(1e-3)\n",
    "model.compile(loss='categorical_crossentropy',\n",
    "              optimizer=opt,\n",
    "              metrics=['acc'])\n",
    "\n",
    "model.summary()"
   ]
  },
  {
   "cell_type": "markdown",
   "metadata": {
    "colab_type": "text",
    "id": "LJ1s98tpLv_y"
   },
   "source": [
    "#### Train the model"
   ]
  },
  {
   "cell_type": "code",
   "execution_count": 19,
   "metadata": {
    "colab": {
     "base_uri": "https://localhost:8080/",
     "height": 1490
    },
    "colab_type": "code",
    "id": "bxRdrBAr7K47",
    "outputId": "ea84ec21-52be-42e9-8f44-6ddcca69abd5"
   },
   "outputs": [
    {
     "name": "stdout",
     "output_type": "stream",
     "text": [
      "Train on 55321 samples, validate on 5000 samples\n",
      "Epoch 1/20\n",
      "55321/55321 [==============================] - 25s 458us/step - loss: 0.7170 - acc: 0.7543 - val_loss: 0.5027 - val_acc: 0.8356\n",
      "\n",
      "Epoch 00001: val_loss improved from inf to 0.50269, saving model to model_cnn.hdf5\n",
      "Epoch 2/20\n",
      "55321/55321 [==============================] - 22s 397us/step - loss: 0.5129 - acc: 0.8270 - val_loss: 0.4360 - val_acc: 0.8520\n",
      "\n",
      "Epoch 00002: val_loss improved from 0.50269 to 0.43601, saving model to model_cnn.hdf5\n",
      "Epoch 3/20\n",
      "55321/55321 [==============================] - 22s 405us/step - loss: 0.4566 - acc: 0.8435 - val_loss: 0.4258 - val_acc: 0.8474\n",
      "\n",
      "Epoch 00003: val_loss improved from 0.43601 to 0.42584, saving model to model_cnn.hdf5\n",
      "Epoch 4/20\n",
      "55321/55321 [==============================] - 22s 396us/step - loss: 0.4275 - acc: 0.8520 - val_loss: 0.4116 - val_acc: 0.8568\n",
      "\n",
      "Epoch 00004: val_loss improved from 0.42584 to 0.41157, saving model to model_cnn.hdf5\n",
      "Epoch 5/20\n",
      "55321/55321 [==============================] - 22s 397us/step - loss: 0.4097 - acc: 0.8573 - val_loss: 0.4078 - val_acc: 0.8672\n",
      "\n",
      "Epoch 00005: val_loss improved from 0.41157 to 0.40776, saving model to model_cnn.hdf5\n",
      "Epoch 6/20\n",
      "55321/55321 [==============================] - 22s 400us/step - loss: 0.3949 - acc: 0.8618 - val_loss: 0.3872 - val_acc: 0.8652\n",
      "\n",
      "Epoch 00006: val_loss improved from 0.40776 to 0.38721, saving model to model_cnn.hdf5\n",
      "Epoch 7/20\n",
      "55321/55321 [==============================] - 22s 399us/step - loss: 0.3816 - acc: 0.8678 - val_loss: 0.3781 - val_acc: 0.8692\n",
      "\n",
      "Epoch 00007: val_loss improved from 0.38721 to 0.37806, saving model to model_cnn.hdf5\n",
      "Epoch 8/20\n",
      "55321/55321 [==============================] - 22s 398us/step - loss: 0.3740 - acc: 0.8698 - val_loss: 0.3903 - val_acc: 0.8662\n",
      "\n",
      "Epoch 00008: val_loss did not improve from 0.37806\n",
      "Epoch 9/20\n",
      "55321/55321 [==============================] - 22s 401us/step - loss: 0.3692 - acc: 0.8703 - val_loss: 0.4064 - val_acc: 0.8568\n",
      "\n",
      "Epoch 00009: val_loss did not improve from 0.37806\n",
      "Epoch 10/20\n",
      "55321/55321 [==============================] - 22s 397us/step - loss: 0.3573 - acc: 0.8743 - val_loss: 0.3610 - val_acc: 0.8746\n",
      "\n",
      "Epoch 00010: val_loss improved from 0.37806 to 0.36100, saving model to model_cnn.hdf5\n",
      "Epoch 11/20\n",
      "55321/55321 [==============================] - 22s 401us/step - loss: 0.3534 - acc: 0.8757 - val_loss: 0.3854 - val_acc: 0.8650\n",
      "\n",
      "Epoch 00011: val_loss did not improve from 0.36100\n",
      "Epoch 12/20\n",
      "55321/55321 [==============================] - 22s 405us/step - loss: 0.3426 - acc: 0.8808 - val_loss: 0.3604 - val_acc: 0.8732\n",
      "\n",
      "Epoch 00012: val_loss improved from 0.36100 to 0.36041, saving model to model_cnn.hdf5\n",
      "Epoch 13/20\n",
      "55321/55321 [==============================] - 22s 401us/step - loss: 0.3340 - acc: 0.8825 - val_loss: 0.3715 - val_acc: 0.8700\n",
      "\n",
      "Epoch 00013: val_loss did not improve from 0.36041\n",
      "Epoch 14/20\n",
      "55321/55321 [==============================] - 23s 412us/step - loss: 0.3327 - acc: 0.8835 - val_loss: 0.3749 - val_acc: 0.8678\n",
      "\n",
      "Epoch 00014: val_loss did not improve from 0.36041\n",
      "Epoch 15/20\n",
      "55321/55321 [==============================] - 22s 397us/step - loss: 0.3274 - acc: 0.8855 - val_loss: 0.3714 - val_acc: 0.8678\n",
      "\n",
      "Epoch 00015: val_loss did not improve from 0.36041\n",
      "Epoch 16/20\n",
      "55321/55321 [==============================] - 22s 397us/step - loss: 0.3203 - acc: 0.8889 - val_loss: 0.3575 - val_acc: 0.8722\n",
      "\n",
      "Epoch 00016: val_loss improved from 0.36041 to 0.35748, saving model to model_cnn.hdf5\n",
      "Epoch 17/20\n",
      "55321/55321 [==============================] - 23s 409us/step - loss: 0.3082 - acc: 0.8928 - val_loss: 0.3848 - val_acc: 0.8630\n",
      "\n",
      "Epoch 00017: val_loss did not improve from 0.35748\n",
      "Epoch 18/20\n",
      "55321/55321 [==============================] - 22s 397us/step - loss: 0.3070 - acc: 0.8943 - val_loss: 0.3575 - val_acc: 0.8786\n",
      "\n",
      "Epoch 00018: val_loss did not improve from 0.35748\n",
      "Epoch 19/20\n",
      "55321/55321 [==============================] - 22s 396us/step - loss: 0.3026 - acc: 0.8953 - val_loss: 0.3703 - val_acc: 0.8758\n",
      "\n",
      "Epoch 00019: val_loss did not improve from 0.35748\n",
      "Epoch 20/20\n",
      "55321/55321 [==============================] - 22s 401us/step - loss: 0.2933 - acc: 0.8969 - val_loss: 0.3663 - val_acc: 0.8710\n",
      "\n",
      "Epoch 00020: val_loss did not improve from 0.35748\n"
     ]
    }
   ],
   "source": [
    "# Weighted cross-entropy loss to handle class imbalance\n",
    "history = model.fit(X_train, y_train, validation_data=(X_test, y_test),\n",
    "                    epochs=20, batch_size=32, callbacks=[cp],\\\n",
    "                    class_weight='auto') "
   ]
  },
  {
   "cell_type": "markdown",
   "metadata": {
    "colab_type": "text",
    "id": "ALkscte0Lv_3"
   },
   "source": [
    "#### Plot the loss and accuracy w.r.t. the no. of epochs"
   ]
  },
  {
   "cell_type": "code",
   "execution_count": 20,
   "metadata": {
    "colab": {
     "base_uri": "https://localhost:8080/",
     "height": 457
    },
    "colab_type": "code",
    "id": "FkMm8WDX7K4-",
    "outputId": "244b56fb-870d-47ea-f228-3ad7bdd6f446"
   },
   "outputs": [
    {
     "data": {
      "image/png": "[encoded data removed]",
      "text/plain": [
       "<Figure size 1440x504 with 2 Axes>"
      ]
     },
     "metadata": {
      "tags": []
     },
     "output_type": "display_data"
    }
   ],
   "source": [
    "plt.figure(figsize=(20,7))\n",
    "plt.subplot(1, 2, 1)\n",
    "plt.plot(history.history['loss'], 'ro-', label='train')\n",
    "plt.plot(history.history['val_loss'], 'bo-', label='val')\n",
    "plt.xlabel('No. of Epochs')\n",
    "plt.ylabel('Loss')\n",
    "plt.title('Model Loss')\n",
    "plt.legend()\n",
    "\n",
    "plt.subplot(1, 2, 2)\n",
    "plt.plot(history.history['acc'], 'ro-',label='train')\n",
    "plt.plot(history.history['val_acc'], 'bo-', label='val')\n",
    "plt.xlabel('No. of Epochs')\n",
    "plt.ylabel('Accuracy')\n",
    "plt.title('Model Accuracy')\n",
    "plt.legend()\n",
    "plt.show()"
   ]
  },
  {
   "cell_type": "markdown",
   "metadata": {
    "colab_type": "text",
    "id": "m7lIsgPbLv_7"
   },
   "source": [
    "#### Predict and compute the F1 Score on the validation set "
   ]
  },
  {
   "cell_type": "code",
   "execution_count": 0,
   "metadata": {
    "colab": {},
    "colab_type": "code",
    "id": "hCRmlI8B7K5B"
   },
   "outputs": [],
   "source": [
    "model.load_weights('model_cnn.hdf5')\n",
    "probs = model.predict(X_test)\n",
    "y_pred = np.zeros(probs.shape)\n",
    "y_pred[range(y_pred.shape[0]), np.argmax(probs, axis=1)] = 1"
   ]
  },
  {
   "cell_type": "code",
   "execution_count": 22,
   "metadata": {
    "colab": {
     "base_uri": "https://localhost:8080/",
     "height": 35
    },
    "colab_type": "code",
    "id": "WiLCu8Wv7K5D",
    "outputId": "f893cabb-ced6-414d-abe2-85e3ab4bc3da"
   },
   "outputs": [
    {
     "name": "stdout",
     "output_type": "stream",
     "text": [
      "Validation F1 Score: 0.8712862938145656\n"
     ]
    }
   ],
   "source": [
    "print('Validation F1 Score:', f1_score(y_test, y_pred, average='weighted'))"
   ]
  },
  {
   "cell_type": "code",
   "execution_count": 0,
   "metadata": {
    "colab": {},
    "colab_type": "code",
    "id": "cQFfF04G7K5F"
   },
   "outputs": [],
   "source": []
  },
  {
   "cell_type": "markdown",
   "metadata": {
    "colab_type": "text",
    "id": "-AT45ZbiLwAD"
   },
   "source": [
    "### Predict on the test set"
   ]
  },
  {
   "cell_type": "markdown",
   "metadata": {
    "colab_type": "text",
    "id": "gGLJJOw_LwAD"
   },
   "source": [
    "#### Read test data"
   ]
  },
  {
   "cell_type": "code",
   "execution_count": 23,
   "metadata": {
    "colab": {
     "base_uri": "https://localhost:8080/",
     "height": 198
    },
    "colab_type": "code",
    "id": "_aqpyTP_LwAF",
    "outputId": "64eefa3b-d6b0-4d0a-a19b-21c7c430e845"
   },
   "outputs": [
    {
     "data": {
      "text/html": [
       "<div>\n",
       "<style scoped>\n",
       "    .dataframe tbody tr th:only-of-type {\n",
       "        vertical-align: middle;\n",
       "    }\n",
       "\n",
       "    .dataframe tbody tr th {\n",
       "        vertical-align: top;\n",
       "    }\n",
       "\n",
       "    .dataframe thead th {\n",
       "        text-align: right;\n",
       "    }\n",
       "</style>\n",
       "<table border=\"1\" class=\"dataframe\">\n",
       "  <thead>\n",
       "    <tr style=\"text-align: right;\">\n",
       "      <th></th>\n",
       "      <th>0</th>\n",
       "      <th>1</th>\n",
       "    </tr>\n",
       "  </thead>\n",
       "  <tbody>\n",
       "    <tr>\n",
       "      <th>0</th>\n",
       "      <td>88305</td>\n",
       "      <td>I spent the weekend in Chicago with my friends .</td>\n",
       "    </tr>\n",
       "    <tr>\n",
       "      <th>1</th>\n",
       "      <td>88306</td>\n",
       "      <td>We moved back into our house after a remodel ....</td>\n",
       "    </tr>\n",
       "    <tr>\n",
       "      <th>2</th>\n",
       "      <td>88307</td>\n",
       "      <td>My fiance proposed to me in front of my family...</td>\n",
       "    </tr>\n",
       "    <tr>\n",
       "      <th>3</th>\n",
       "      <td>88308</td>\n",
       "      <td>I ate lobster at a fancy restaurant with some ...</td>\n",
       "    </tr>\n",
       "    <tr>\n",
       "      <th>4</th>\n",
       "      <td>88309</td>\n",
       "      <td>I went out to a nice restaurant on a date with...</td>\n",
       "    </tr>\n",
       "  </tbody>\n",
       "</table>\n",
       "</div>"
      ],
      "text/plain": [
       "       0                                                  1\n",
       "0  88305   I spent the weekend in Chicago with my friends .\n",
       "1  88306  We moved back into our house after a remodel ....\n",
       "2  88307  My fiance proposed to me in front of my family...\n",
       "3  88308  I ate lobster at a fancy restaurant with some ...\n",
       "4  88309  I went out to a nice restaurant on a date with..."
      ]
     },
     "execution_count": 23,
     "metadata": {
      "tags": []
     },
     "output_type": "execute_result"
    }
   ],
   "source": [
    "hm_test = pd.read_csv('../hm_test_cleaned.csv', header=None)\n",
    "hm_test.head()"
   ]
  },
  {
   "cell_type": "markdown",
   "metadata": {
    "colab_type": "text",
    "id": "gy-Rzf5aLwAH"
   },
   "source": [
    "#### Tokenize and pad test sequences"
   ]
  },
  {
   "cell_type": "code",
   "execution_count": 0,
   "metadata": {
    "colab": {},
    "colab_type": "code",
    "id": "oRelA_WVLwAH"
   },
   "outputs": [],
   "source": [
    "test_sequences = tokenizer.texts_to_sequences(hm_test[1])\n",
    "test_padded = pad_sequences(test_sequences, maxlen=MAX_LEN)"
   ]
  },
  {
   "cell_type": "markdown",
   "metadata": {
    "colab_type": "text",
    "id": "EmHysW8BLwAJ"
   },
   "source": [
    "#### Make predictions"
   ]
  },
  {
   "cell_type": "code",
   "execution_count": 25,
   "metadata": {
    "colab": {
     "base_uri": "https://localhost:8080/",
     "height": 199
    },
    "colab_type": "code",
    "id": "Dk56Cv5qLwAK",
    "outputId": "4829aa9f-aa56-4109-f894-589936afa1b6"
   },
   "outputs": [
    {
     "data": {
      "text/plain": [
       "array([[3.6593283e-05, 4.1339194e-05, 9.9992180e-01, 8.1322241e-08,\n",
       "        1.7777780e-09, 8.9940343e-08, 2.8467471e-11],\n",
       "       [7.3487067e-01, 4.7105186e-02, 4.1138060e-02, 1.6860431e-01,\n",
       "        1.7630167e-03, 5.2343700e-03, 1.2843835e-03],\n",
       "       [2.4857809e-04, 9.9965060e-01, 7.3486546e-05, 5.1780671e-07,\n",
       "        2.5885562e-05, 9.6694384e-07, 1.5188916e-09],\n",
       "       [2.2064896e-05, 2.1208394e-05, 9.9995303e-01, 3.6060890e-06,\n",
       "        4.3562698e-10, 1.7687893e-07, 1.5465298e-10],\n",
       "       [6.3877160e-15, 9.5437631e-02, 8.9681745e-01, 7.7449153e-03,\n",
       "        2.4186935e-22, 1.3153457e-09, 4.2678885e-19]], dtype=float32)"
      ]
     },
     "execution_count": 25,
     "metadata": {
      "tags": []
     },
     "output_type": "execute_result"
    }
   ],
   "source": [
    "test_prob = model.predict(test_padded)\n",
    "test_prob[:5]"
   ]
  },
  {
   "cell_type": "markdown",
   "metadata": {
    "colab_type": "text",
    "id": "tGywDYmvLwAM"
   },
   "source": [
    "#### Convert probablities into integer labels"
   ]
  },
  {
   "cell_type": "code",
   "execution_count": 26,
   "metadata": {
    "colab": {
     "base_uri": "https://localhost:8080/",
     "height": 35
    },
    "colab_type": "code",
    "id": "Evnk1piILwAN",
    "outputId": "0ca01c14-8184-4306-f505-ee6ef8f72a6a"
   },
   "outputs": [
    {
     "data": {
      "text/plain": [
       "array([2, 0, 1, 2, 2])"
      ]
     },
     "execution_count": 26,
     "metadata": {
      "tags": []
     },
     "output_type": "execute_result"
    }
   ],
   "source": [
    "test_pred = np.argmax(test_prob, axis=1)\n",
    "test_pred[:5]"
   ]
  },
  {
   "cell_type": "markdown",
   "metadata": {
    "colab_type": "text",
    "id": "JBBsPfY1LwAQ"
   },
   "source": [
    "#### Convert the integer lables into the corresponding string targets"
   ]
  },
  {
   "cell_type": "code",
   "execution_count": 27,
   "metadata": {
    "colab": {
     "base_uri": "https://localhost:8080/",
     "height": 54
    },
    "colab_type": "code",
    "id": "J850s9bhLwAR",
    "outputId": "0ff66c9b-6e10-4a1f-bc37-c8c483c445f3"
   },
   "outputs": [
    {
     "data": {
      "text/plain": [
       "array(['bonding', 'achievement', 'affection', 'bonding', 'bonding'],\n",
       "      dtype=object)"
      ]
     },
     "execution_count": 27,
     "metadata": {
      "tags": []
     },
     "output_type": "execute_result"
    }
   ],
   "source": [
    "test_classes = LE.inverse_transform(test_pred)\n",
    "test_classes[:5]"
   ]
  },
  {
   "cell_type": "markdown",
   "metadata": {
    "colab_type": "text",
    "id": "nGnxEkB2LwAT"
   },
   "source": [
    "#### Make submission dataframe"
   ]
  },
  {
   "cell_type": "code",
   "execution_count": 28,
   "metadata": {
    "colab": {
     "base_uri": "https://localhost:8080/",
     "height": 198
    },
    "colab_type": "code",
    "id": "TAz6C2jWLwAV",
    "outputId": "b4827920-f58c-445b-9edc-58b80d36c68b"
   },
   "outputs": [
    {
     "data": {
      "text/html": [
       "<div>\n",
       "<style scoped>\n",
       "    .dataframe tbody tr th:only-of-type {\n",
       "        vertical-align: middle;\n",
       "    }\n",
       "\n",
       "    .dataframe tbody tr th {\n",
       "        vertical-align: top;\n",
       "    }\n",
       "\n",
       "    .dataframe thead th {\n",
       "        text-align: right;\n",
       "    }\n",
       "</style>\n",
       "<table border=\"1\" class=\"dataframe\">\n",
       "  <thead>\n",
       "    <tr style=\"text-align: right;\">\n",
       "      <th></th>\n",
       "      <th>hmid</th>\n",
       "      <th>predicted_category</th>\n",
       "    </tr>\n",
       "  </thead>\n",
       "  <tbody>\n",
       "    <tr>\n",
       "      <th>0</th>\n",
       "      <td>88305</td>\n",
       "      <td>bonding</td>\n",
       "    </tr>\n",
       "    <tr>\n",
       "      <th>1</th>\n",
       "      <td>88306</td>\n",
       "      <td>achievement</td>\n",
       "    </tr>\n",
       "    <tr>\n",
       "      <th>2</th>\n",
       "      <td>88307</td>\n",
       "      <td>affection</td>\n",
       "    </tr>\n",
       "    <tr>\n",
       "      <th>3</th>\n",
       "      <td>88308</td>\n",
       "      <td>bonding</td>\n",
       "    </tr>\n",
       "    <tr>\n",
       "      <th>4</th>\n",
       "      <td>88309</td>\n",
       "      <td>bonding</td>\n",
       "    </tr>\n",
       "  </tbody>\n",
       "</table>\n",
       "</div>"
      ],
      "text/plain": [
       "    hmid predicted_category\n",
       "0  88305            bonding\n",
       "1  88306        achievement\n",
       "2  88307          affection\n",
       "3  88308            bonding\n",
       "4  88309            bonding"
      ]
     },
     "execution_count": 28,
     "metadata": {
      "tags": []
     },
     "output_type": "execute_result"
    }
   ],
   "source": [
    "submit = hm_test.copy()\n",
    "submit[1] = test_classes\n",
    "submit.columns = ['hmid', 'predicted_category']\n",
    "submit.head()"
   ]
  },
  {
   "cell_type": "markdown",
   "metadata": {
    "colab_type": "text",
    "id": "QyNan9JwLwAX"
   },
   "source": [
    "#### Write to submission.csv"
   ]
  },
  {
   "cell_type": "code",
   "execution_count": 0,
   "metadata": {
    "colab": {},
    "colab_type": "code",
    "id": "zo6eUt98LwAX"
   },
   "outputs": [],
   "source": [
    "submit.to_csv('submission.csv', index=None)"
   ]
  },
  {
   "cell_type": "code",
   "execution_count": 0,
   "metadata": {
    "colab": {},
    "colab_type": "code",
    "id": "gN4IzntMdBQ8"
   },
   "outputs": [],
   "source": []
  }
 ],
 "metadata": {
  "accelerator": "GPU",
  "colab": {
   "collapsed_sections": [],
   "name": "TextCNN.ipynb",
   "provenance": [],
   "version": "0.3.2"
  },
  "kernelspec": {
   "display_name": "Python 3",
   "language": "python",
   "name": "python3"
  },
  "language_info": {
   "codemirror_mode": {
    "name": "ipython",
    "version": 3
   },
   "file_extension": ".py",
   "mimetype": "text/x-python",
   "name": "python",
   "nbconvert_exporter": "python",
   "pygments_lexer": "ipython3",
   "version": "3.6.8"
  }
 },
 "nbformat": 4,
 "nbformat_minor": 1
}
